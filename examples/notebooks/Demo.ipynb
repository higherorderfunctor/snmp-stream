{
 "cells": [
  {
   "cell_type": "code",
   "execution_count": 68,
   "metadata": {},
   "outputs": [
    {
     "data": {
      "text/plain": [
       "ObjectIdentity('.1.2')"
      ]
     },
     "execution_count": 68,
     "metadata": {},
     "output_type": "execute_result"
    }
   ],
   "source": [
    "import numpy as np\n",
    "import json\n",
    "from snmp_stream import *\n",
    "import snmp_stream as snmp\n",
    "\n",
    "oid = ObjectIdentity(ObjectIdentity([1, 2]))\n",
    "\n",
    "json.loads(json.dumps(oid, cls=ObjectIdentityEncoder), cls=ObjectIdentityDecoder)"
   ]
  },
  {
   "cell_type": "code",
   "execution_count": 2,
   "metadata": {},
   "outputs": [
    {
     "name": "stdout",
     "output_type": "stream",
     "text": [
      "('recorded/linux-full-walk', 'V2C')\n",
      "[[  8   8   0   0   0   0   0   0]\n",
      " [  3   0   0   0   0   0   0   0]\n",
      " [ 97  98  99   0   0   0   0   0]\n",
      " [  1   0   0   0   0   0   0   0]\n",
      " [ 64   0   0   0   0   0   0   0]\n",
      " [  1   0   0   0   0   0   0   0]\n",
      " [  3   0   0   0   0   0   0   0]\n",
      " [  6   0   0   0   0   0   0   0]\n",
      " [  1   0   0   0   0   0   0   0]\n",
      " [  2   0   0   0   0   0   0   0]\n",
      " [  1   0   0   0   0   0   0   0]\n",
      " [  1   0   0   0   0   0   0   0]\n",
      " [  1   0   0   0   0   0   0   0]\n",
      " [112   0   0   0   0   0   0   0]\n",
      " [195  86  80  94   0   0   0   0]\n",
      " [  0   0   0   0   0   0   0   0]\n",
      " [  4   0   0   0   0   0   0   0]\n",
      " [  8   0   0   0   0   0   0   0]\n",
      " [  0   0   0   0   0   0   0   0]\n",
      " [ 64   0   0   0   0   0   0   0]\n",
      " [ 76 105 110 117 120  32  99 114]\n",
      " [ 97 121  32  50  46  54  46  50]\n",
      " [ 49  46  53  45 115 109 112  32]\n",
      " [ 35  50  32  83  77  80  32  84]\n",
      " [117 101  32  74 117 110  32  49]\n",
      " [ 57  32  49  52  58  53  56  58]\n",
      " [ 49  49  32  67  68  84  32  50]\n",
      " [ 48  48  55  32 105  54  56  54]]\n"
     ]
    },
    {
     "data": {
      "text/plain": [
       "SnmpResponse(type=SUCCESSFUL, request=SnmpRequest(type=WALK_REQUEST, host='127.0.0.1:1161', communities=Community(string='recorded/linux-full-walk', version=V2C), oids=['.1.3.6.1.2.1.1.1'], ranges=None, req_id='abc', config=Config(retries=1, timeout=3, max_response_var_binds_per_pdu=10, max_async_sessions=10)), errors=[])"
      ]
     },
     "execution_count": 2,
     "metadata": {},
     "output_type": "execute_result"
    }
   ],
   "source": [
    "response = walk(\n",
    "    '127.0.0.1:1161',\n",
    "    ('recorded/linux-full-walk', 'V2C'),\n",
    "    [\n",
    "        '1.3.6.1.2.1.1.1',\n",
    "        #'1.3.6.1.2.1.2',\n",
    "    ],\n",
    "    req_id='abc',\n",
    "    config={'retries': 1, 'timeout': 3}\n",
    ")\n",
    "print(np.array2string(response.results.reshape(response.results.size >> 3, 8)))\n",
    "response\n",
    "# snmpsimd.py --agent-udpv4-endpoint=127.0.0.1:1161 --process-user=root --process-group=root"
   ]
  },
  {
   "cell_type": "code",
   "execution_count": 67,
   "metadata": {},
   "outputs": [],
   "source": [
    "%time\n",
    "\n",
    "def align(parser):\n",
    "    def _align(word_size, octect_size, endianess, arr):\n",
    "        _arr, val = parser(word_size, octect_size, endianess, arr)\n",
    "        aligned = ((len(arr) - len(_arr)) + (word_size - 1)) & ~((word_size) - 1)\n",
    "        return arr[aligned:], val\n",
    "    return _align\n",
    "\n",
    "def uword():\n",
    "    def _word(word_size, octect_size, endianess, arr):\n",
    "        word = arr[:word_size].view(endianess + 'u' + str(word_size))[0]\n",
    "        return arr[word_size:], word\n",
    "    return _word\n",
    "\n",
    "def variable(parser):\n",
    "    def _variable(word_size, octect_size, endianess, arr):\n",
    "        arr, size = uword()(word_size, octect_size, endianess, arr)\n",
    "        return arr[size:], parser(word_size, octect_size, endianess, arr[:size])[1]\n",
    "    return _variable\n",
    "        \n",
    "def string():\n",
    "    def _string(word_size, octect_size, endianess, arr):\n",
    "        return np.array([], dtype=np.uint8), arr.tobytes().decode('utf-8')\n",
    "    return _string\n",
    "\n",
    "class SnmpResultParser:\n",
    "    word_size: np.uint8\n",
    "    octect_size: np.uint8\n",
    "    endianess: np.uint8\n",
    "    \n",
    "    arr: np.ndarray\n",
    "    metadata: str\n",
    "\n",
    "    def __init__(self, results):\n",
    "        self.word_size = results[0]\n",
    "        self.octect_size = results[1]\n",
    "        self.endianess = '<' if results[2] == 0 else '>'\n",
    "        arr, self.metadata = align(variable(string()))(self.word_size, self.octect_size, self.endianess, results[self.word_size:])\n",
    "        \n",
    "parser = SnmpResultParser(response.results)\n",
    "parser.metadata"
   ]
  },
  {
   "cell_type": "code",
   "execution_count": 67,
   "metadata": {},
   "outputs": [
    {
     "name": "stdout",
     "output_type": "stream",
     "text": [
      "CPU times: user 4 µs, sys: 0 ns, total: 4 µs\n",
      "Wall time: 8.82 µs\n"
     ]
    },
    {
     "data": {
      "text/plain": [
       "'abc'"
      ]
     },
     "execution_count": 67,
     "metadata": {},
     "output_type": "execute_result"
    }
   ],
   "source": [
    "{\n",
    "    '1.3.6.1.2.1.1.1': (integer('sys_idx'), string('sys_descr'))\n",
    "}\n",
    "\n",
    "snmp.walk(\n",
    "    '127.0.0.1:1161',\n",
    "    ('recorded/linux-full-walk', 'V2C'),\n",
    "    [\n",
    "        '1.3.6.1.2.1.1.1',\n",
    "        #'1.3.6.1.2.1.2',\n",
    "    ],\n",
    "    req_id='abc',\n",
    "    config={'retries': 1, 'timeout': 3}\n",
    ")"
   ]
  },
  {
   "cell_type": "code",
   "execution_count": 3,
   "metadata": {},
   "outputs": [
    {
     "name": "stdout",
     "output_type": "stream",
     "text": [
      "CPU times: user 4 µs, sys: 0 ns, total: 4 µs\n",
      "Wall time: 8.34 µs\n"
     ]
    },
    {
     "data": {
      "text/plain": [
       "(array([97, 98, 99], dtype=uint8),\n",
       " [array([1, 3, 6, 1, 2, 1, 1, 1], dtype=uint64)],\n",
       " [(1582322325,\n",
       "   0,\n",
       "   4,\n",
       "   array([0, 0, 0, 0, 0, 0, 0, 0], dtype=uint8),\n",
       "   array([ 76, 105, 110, 117, 120,  32,  99, 114,  97, 121,  32,  50,  46,\n",
       "           54,  46,  50,  49,  46,  53,  45, 115, 109, 112,  32,  35,  50,\n",
       "           32,  83,  77,  80,  32,  84, 117, 101,  32,  74, 117, 110,  32,\n",
       "           49,  57,  32,  49,  52,  58,  53,  56,  58,  49,  49,  32,  67,\n",
       "           68,  84,  32,  50,  48,  48,  55,  32, 105,  54,  56,  54],\n",
       "         dtype=uint8))],\n",
       " array([], dtype=uint8))"
      ]
     },
     "execution_count": 3,
     "metadata": {},
     "output_type": "execute_result"
    }
   ],
   "source": [
    "\n",
    "def decode(arr):\n",
    "    word_size = arr[0]\n",
    "    word_dtype = np.dtype('u'+str(word_size))\n",
    "    octet_size = arr[1]\n",
    "    octet_dtype = np.dtype('u'+str(octet_size))\n",
    "    arr = arr[word_size:]\n",
    "\n",
    "    def word(arr):\n",
    "        return arr[word_size:], arr[:word_size].view(word_dtype)[0]\n",
    "\n",
    "    def octet(arr):\n",
    "        return arr[octet_size:], arr[:octet_size].view(octet_dtype)[0]\n",
    "\n",
    "    def align(x):\n",
    "        return (x + (word_size - 1)) & ~((word_size) - 1)\n",
    "\n",
    "    def aligned(orig, res):\n",
    "        arr, val = res\n",
    "        return orig[align(len(orig) - len(arr)):], val\n",
    "\n",
    "    def take_sized(arr):\n",
    "        arr, size = word(arr)\n",
    "        return arr[size:], arr[:size]\n",
    "    \n",
    "    def octet_string(arr):\n",
    "        return arr.view(octet_dtype)\n",
    "    \n",
    "    def var_bind(arr):\n",
    "        arr, timestamp = word(arr)\n",
    "        arr, root_oid_index = word(arr)\n",
    "        arr, value_type = word(arr)\n",
    "        arr, index = aligned(arr, take_sized(arr))\n",
    "        arr, value = aligned(arr, take_sized(arr))\n",
    "        return timestamp, root_oid_index, value_type, index, value\n",
    "        \n",
    "    def _decode(arr):\n",
    "        arr, metadata = aligned(arr, take_sized(arr))\n",
    "        arr, root_oid_count = word(arr)\n",
    "        root_oids = []\n",
    "        \n",
    "        for i in range(root_oid_count):\n",
    "            arr, root_oid = aligned(arr, take_sized(arr))\n",
    "            root_oids.append(octet_string(root_oid))\n",
    "            \n",
    "        resp_var_binds = []\n",
    "        \n",
    "        while arr.size != 0:\n",
    "            arr, resp_var_bind = aligned(arr, take_sized(arr))\n",
    "            resp_var_binds.append(var_bind(resp_var_bind))\n",
    "        \n",
    "        return metadata, root_oids, resp_var_binds, arr\n",
    "    return _decode(arr)\n",
    "    \n",
    "\n",
    "decode(response.results)"
   ]
  },
  {
   "cell_type": "code",
   "execution_count": 4,
   "metadata": {},
   "outputs": [
    {
     "name": "stdout",
     "output_type": "stream",
     "text": [
      "[[  8   8   0   0   0   0   0   0]\n",
      " [  3   0   0   0   0   0   0   0]\n",
      " [ 97  98  99   0   0   0   0   0]\n",
      " [  1   0   0   0   0   0   0   0]\n",
      " [ 64   0   0   0   0   0   0   0]\n",
      " [  1   0   0   0   0   0   0   0]\n",
      " [  3   0   0   0   0   0   0   0]\n",
      " [  6   0   0   0   0   0   0   0]\n",
      " [  1   0   0   0   0   0   0   0]\n",
      " [  2   0   0   0   0   0   0   0]\n",
      " [  1   0   0   0   0   0   0   0]\n",
      " [  1   0   0   0   0   0   0   0]\n",
      " [  1   0   0   0   0   0   0   0]\n",
      " [112   0   0   0   0   0   0   0]\n",
      " [149  82  80  94   0   0   0   0]\n",
      " [  0   0   0   0   0   0   0   0]\n",
      " [  4   0   0   0   0   0   0   0]\n",
      " [  8   0   0   0   0   0   0   0]\n",
      " [  0   0   0   0   0   0   0   0]\n",
      " [ 64   0   0   0   0   0   0   0]\n",
      " [ 76 105 110 117 120  32  99 114]\n",
      " [ 97 121  32  50  46  54  46  50]\n",
      " [ 49  46  53  45 115 109 112  32]\n",
      " [ 35  50  32  83  77  80  32  84]\n",
      " [117 101  32  74 117 110  32  49]\n",
      " [ 57  32  49  52  58  53  56  58]\n",
      " [ 49  49  32  67  68  84  32  50]\n",
      " [ 48  48  55  32 105  54  56  54]]\n"
     ]
    }
   ],
   "source": [
    "np.set_printoptions(threshold=10000000000)\n",
    "print(np.array2string(response.results.reshape(response.results.size >> 3, 8)))"
   ]
  },
  {
   "cell_type": "code",
   "execution_count": 29,
   "metadata": {},
   "outputs": [
    {
     "data": {
      "text/plain": [
       "969.0"
      ]
     },
     "execution_count": 29,
     "metadata": {},
     "output_type": "execute_result"
    }
   ],
   "source": [
    "response.results.size / 8"
   ]
  },
  {
   "cell_type": "code",
   "execution_count": null,
   "metadata": {},
   "outputs": [],
   "source": [
    "np.dtype('u8').itemsize"
   ]
  },
  {
   "cell_type": "code",
   "execution_count": null,
   "metadata": {},
   "outputs": [],
   "source": [
    "snmp.ObjectIdentity(oid='') <= [1,1,1]"
   ]
  },
  {
   "cell_type": "code",
   "execution_count": null,
   "metadata": {},
   "outputs": [],
   "source": [
    "\".1.1.1.1\"[1:]"
   ]
  },
  {
   "cell_type": "code",
   "execution_count": 242,
   "metadata": {},
   "outputs": [],
   "source": [
    "class A:\n",
    "    pass\n",
    "\n",
    "    \n",
    "    "
   ]
  },
  {
   "cell_type": "code",
   "execution_count": 245,
   "metadata": {},
   "outputs": [
    {
     "name": "stdout",
     "output_type": "stream",
     "text": [
      "1\n",
      "none\n"
     ]
    }
   ],
   "source": [
    "def print_a(a):\n",
    "    if a is None:\n",
    "        print('none')\n",
    "\n",
    "    if a is not None:\n",
    "        print(a)\n",
    "        \n",
    "print_a(1)\n",
    "print_a(None)"
   ]
  },
  {
   "cell_type": "code",
   "execution_count": 335,
   "metadata": {},
   "outputs": [],
   "source": [
    "a = [1, 2, 3]"
   ]
  },
  {
   "cell_type": "code",
   "execution_count": 337,
   "metadata": {},
   "outputs": [
    {
     "data": {
      "text/plain": [
       "[3]"
      ]
     },
     "execution_count": 337,
     "metadata": {},
     "output_type": "execute_result"
    }
   ],
   "source": [
    "a[:]"
   ]
  },
  {
   "cell_type": "code",
   "execution_count": null,
   "metadata": {},
   "outputs": [],
   "source": []
  }
 ],
 "metadata": {
  "kernelspec": {
   "display_name": "Python 3",
   "language": "python",
   "name": "python3"
  },
  "language_info": {
   "codemirror_mode": {
    "name": "ipython",
    "version": 3
   },
   "file_extension": ".py",
   "mimetype": "text/x-python",
   "name": "python",
   "nbconvert_exporter": "python",
   "pygments_lexer": "ipython3",
   "version": "3.8.1"
  }
 },
 "nbformat": 4,
 "nbformat_minor": 4
}
